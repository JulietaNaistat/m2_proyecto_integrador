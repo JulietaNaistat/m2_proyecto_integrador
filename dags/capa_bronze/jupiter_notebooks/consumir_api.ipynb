{
 "cells": [
  {
   "cell_type": "code",
   "execution_count": 5,
   "id": "ec660c01",
   "metadata": {},
   "outputs": [],
   "source": [
    "import requests\n",
    "import pandas as pd\n",
    "import os\n",
    "from dotenv import load_dotenv\n",
    "\n",
    "\n"
   ]
  },
  {
   "cell_type": "code",
   "execution_count": null,
   "id": "a91e7efb",
   "metadata": {},
   "outputs": [
    {
     "name": "stdout",
     "output_type": "stream",
     "text": [
      "cur_live_lq6bGwnz1ebfJZSkLSE7Ls3ILWj6po5KTienyq6g\n"
     ]
    }
   ],
   "source": [
    "load_dotenv()  \n",
    "apikey = os.getenv('APIKEY_CURRENCY') \n",
    "\n",
    "#https://api.currencyapi.com/v3/latest?apikey=cur_live_lq6bGwnz1ebfJZSkLSE7Ls3ILWj6po5KTienyq6g&currencies=EUR%2CGBP%2CARS\n",
    "# URL del endpoint\n",
    "url = \"https://api.currencyapi.com/v3/latest\"\n",
    "params = {\n",
    "    \"apikey\": apikey,\n",
    "    \"currencies\": \"EUR,GBP,ARS\"\n",
    "}\n",
    "\n",
    "# Hacer la solicitud\n",
    "response = requests.get(url, params=params)"
   ]
  },
  {
   "cell_type": "code",
   "execution_count": null,
   "id": "9c7e672b",
   "metadata": {},
   "outputs": [
    {
     "name": "stdout",
     "output_type": "stream",
     "text": [
      "Datos guardados en 'currency_data.csv'\n"
     ]
    }
   ],
   "source": [
    "\n",
    "# Verificar si fue exitosa\n",
    "if response.status_code == 200:\n",
    "    data = response.json()\n",
    "    \n",
    "    # Extraer fecha de actualización\n",
    "    last_updated = data['meta']['last_updated_at']\n",
    "    \n",
    "    # Extraer datos de monedas\n",
    "    currency_data = []\n",
    "    for code, info in data['data'].items():\n",
    "        currency_data.append({\n",
    "            'currency': code,\n",
    "            'value': info['value'],\n",
    "            'last_updated_at': last_updated\n",
    "        })\n",
    "    \n",
    "    # Convertir a DataFrame\n",
    "    df = pd.DataFrame(currency_data)\n",
    "    \n",
    "    # Guardar como CSV\n",
    "    df.to_csv(\"../Files/currency_data.csv\", index=False)\n",
    "    print(\"Datos guardados en 'currency_data.csv'\")\n",
    "else:\n",
    "    print(f\"Error al consumir el endpoint: {response.status_code}\")\n"
   ]
  }
 ],
 "metadata": {
  "kernelspec": {
   "display_name": "venv",
   "language": "python",
   "name": "python3"
  },
  "language_info": {
   "codemirror_mode": {
    "name": "ipython",
    "version": 3
   },
   "file_extension": ".py",
   "mimetype": "text/x-python",
   "name": "python",
   "nbconvert_exporter": "python",
   "pygments_lexer": "ipython3",
   "version": "3.13.6"
  }
 },
 "nbformat": 4,
 "nbformat_minor": 5
}
